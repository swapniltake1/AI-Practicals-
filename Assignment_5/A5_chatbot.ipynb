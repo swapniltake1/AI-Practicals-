{
 "cells": [
  {
   "cell_type": "code",
   "execution_count": 4,
   "metadata": {},
   "outputs": [],
   "source": [
    "import random"
   ]
  },
  {
   "cell_type": "code",
   "execution_count": 5,
   "metadata": {},
   "outputs": [
    {
     "name": "stdout",
     "output_type": "stream",
     "text": [
      "BOT: What do you want me to call you?\n",
      "\n"
     ]
    }
   ],
   "source": [
    "print(\"BOT: What do you want me to call you?\")\n",
    "user_name = input()"
   ]
  },
  {
   "cell_type": "code",
   "execution_count": 6,
   "metadata": {},
   "outputs": [],
   "source": [
    "bot_template = \"BOT : {0}\"\n",
    "user_template = user_name + \" : {0}\""
   ]
  },
  {
   "cell_type": "code",
   "execution_count": 7,
   "metadata": {},
   "outputs": [],
   "source": [
    "name = \"Doctorify\" \n",
    "# weather = \"rainy\" \n",
    "# mood = \"Happy\"\n",
    "responses = { \n",
    "    \n",
    "\"what's your name?\": \n",
    "[ \n",
    "\"They call me {0}\".format(name), \n",
    "\"I usually go by {0}\".format(name), \n",
    "\"My name is the {0}\".format(name) \n",
    "],\n",
    "\"how are you?\":\n",
    "[\n",
    "    \"I am full of 0 and 1's \\n\"\n",
    "],\n",
    "\"how can you help me?\":\n",
    "[\n",
    "  \"I can :\\n\\t1)inform you remedys.\\n\\t2)inform you about visiting hours.\\n\\t\"  \n",
    "],\n",
    "    \n",
    "\"what is the remedy for cold?\": \n",
    "[ \n",
    "\"1. You can take steam twice a day \\n      2. You can apply vicks on your chest and nose \\n      3. Drink warm water\\n\"\n",
    "],\n",
    "\n",
    "\"what are the medicines for cold?\": \n",
    "[ \n",
    "\"1. D Cold Total twice a day \\n      2. Sinarest once a day \\n\"\n",
    "],\n",
    "    \n",
    "\"what is the remedy for sore throat?\": \n",
    "[ \n",
    "\"1. You can gargle with warm water and salt thrice a day \\n      2. Sip herbal teas \\n      3. Drink warm water\\n\"\n",
    "],\n",
    "\n",
    "\"what are the medicines for sore throat?\": \n",
    "[ \n",
    "\"1. Strepsils twice a day \\n      2. ThroatCalm twice a day\\n\"\n",
    "],\n",
    "    \n",
    "\"what is the remedy for fever?\": \n",
    "[ \n",
    "\"1. Keep putting cold strips on your head \\n      2. Keep yourself hydrated \\n      3. Take a lukewarm water bath\\n\"\n",
    "],\n",
    "\n",
    "\"what are the medicines for fever?\": \n",
    "[ \n",
    "\"1. Crocin twice a day \\n      2. Dolo650 twice a day\\n\"\n",
    "],\n",
    "    \n",
    "\"what is the remedy for stomach ache?\": \n",
    "[ \n",
    "\"If you are having an upset stomach you should: \\n\\t 1. Eat light food and drink lots of water \\n\\t 2. Have curd\\n\\t 3. Have a bread toast if you are having loose motions\\n\" \n",
    "\"      If you feel bloated : \\n\\t 1. Have peppermint tea \\n\\t 2. Take a walk\\n\\t 3. Drink lots of water\\n  \"\n",
    "\n",
    "],\n",
    "\n",
    "\"what are the medicines for stomach ache?\": \n",
    "[ \n",
    "\"If you are having an upset stomach you can take: \\n\\t 1. NorfloxTZ twice a day \\n\\t 2. Digene twice a day\\n\"  \n",
    "\"      If you feel bloated you can take: \\n\\t 1. Pudin Hara Liquid twice a day \\n\\t 2. Imodium twice a day\\n \"\n",
    "],\n",
    "\"visiting hours\":\n",
    "[\n",
    "    \"You can vist between 8:00 am to 8:00 pm.\\n\"\n",
    "],\n",
    "\"Are you a robot?\": [ \n",
    "\"What do you think?\", \n",
    "\"Maybe yes, maybe no!\", \n",
    "\"Yes, I am a robot with human feelings.\", ],\n",
    "# \"how are you?\": [ \n",
    "# \"I am feeling {0}\".format(mood), \n",
    "# \"{0}! How about you?\".format(mood), \n",
    "# \"I am {0}! How about yourself?\".format(mood), ],\n",
    "\"\": [ \n",
    "\"Hey! Are you there?\", \n",
    "\"What do you mean by saying nothing?\", \n",
    "\"Sometimes saying nothing tells a lot :)\", ],\n",
    "\"default\": [\n",
    "\"this is a default message\"] }"
   ]
  },
  {
   "cell_type": "code",
   "execution_count": 8,
   "metadata": {},
   "outputs": [],
   "source": [
    "def respond(message):\n",
    "    if message in responses: \n",
    "        bot_message = random.choice(responses[message])\n",
    "    else: \n",
    "        bot_message = random.choice(responses[\"default\"])\n",
    "    return bot_message"
   ]
  },
  {
   "cell_type": "code",
   "execution_count": 9,
   "metadata": {},
   "outputs": [],
   "source": [
    "def related(x_text): #keyword\n",
    "    if \"name\" in x_text: \n",
    "        y_text = \"what's your name?\"\n",
    "    elif \"help\" in x_text: \n",
    "        y_text = \"how can you help me?\"\n",
    "    elif \"cold\" in x_text and \"remedy\" in x_text: \n",
    "        y_text = \"what is the remedy for cold?\"\n",
    "    elif \"cold\"in x_text and \"medicine\" in x_text: \n",
    "        y_text = \"what are the medicines for cold?\"\n",
    "        \n",
    "    elif \"sore throat\" in x_text and \"remedy\" in x_text: \n",
    "        y_text = \"what is the remedy for sore throat?\"\n",
    "    elif \"sore throat\" in x_text and \"medicine\" in x_text: \n",
    "        y_text = \"what are the medicines for sore throat?\"\n",
    "        \n",
    "    elif \"fever\"  in x_text and \"remedy\" in x_text:\n",
    "        y_text = \"what is the remedy for fever?\"\n",
    "    elif \"fever\" in x_text and \"medicine\" in x_text: \n",
    "        y_text = \"what are the medicines for fever?\"\n",
    "        \n",
    "    elif \"stomach ache\"  in x_text and \"remedy\" in x_text:\n",
    "        y_text = \"what is the remedy for stomach ache?\"\n",
    "    elif \"stomach ache\" in x_text and \"medicine\" in x_text: \n",
    "        y_text = \"what are the medicines for stomach ache?\"\n",
    "    elif \"visiting\" in x_text:\n",
    "        y_text=\"visiting hours\"    \n",
    "    elif \"robot\" in x_text: \n",
    "        y_text = \"Are you a robot?\"\n",
    "    elif \"how are\" in x_text: \n",
    "        y_text = \"how are you?\"\n",
    "    else: \n",
    "        y_text = \"\"\n",
    "    return y_text"
   ]
  },
  {
   "cell_type": "code",
   "execution_count": 10,
   "metadata": {},
   "outputs": [],
   "source": [
    "def send_message(message): \n",
    "  print(user_template.format(message)) \n",
    "  response = respond(message) \n",
    "  print(bot_template.format(response))"
   ]
  },
  {
   "cell_type": "code",
   "execution_count": 11,
   "metadata": {},
   "outputs": [
    {
     "name": "stdout",
     "output_type": "stream",
     "text": [
      "\n",
      " : \n",
      "BOT : What do you mean by saying nothing?\n",
      "\n",
      " : \n",
      "BOT : Hey! Are you there?\n",
      "\n",
      " : \n",
      "BOT : Hey! Are you there?\n",
      "\n",
      " : \n",
      "BOT : Hey! Are you there?\n",
      "\n",
      " : \n",
      "BOT : Hey! Are you there?\n",
      "\n",
      " : \n",
      "BOT : Hey! Are you there?\n",
      "\n",
      " : \n",
      "BOT : What do you mean by saying nothing?\n",
      "name\n",
      " : what's your name?\n",
      "BOT : They call me Doctorify\n",
      "ak\n",
      " : \n",
      "BOT : What do you mean by saying nothing?\n",
      "ak\n",
      " : \n",
      "BOT : Sometimes saying nothing tells a lot :)\n",
      "hi\n",
      " : \n",
      "BOT : What do you mean by saying nothing?\n",
      "what is your name\n",
      " : what's your name?\n",
      "BOT : My name is the Doctorify\n",
      "remedy for cold\n",
      " : what is the remedy for cold?\n",
      "BOT : 1. You can take steam twice a day \n",
      "      2. You can apply vicks on your chest and nose \n",
      "      3. Drink warm water\n",
      "\n",
      "bye\n"
     ]
    }
   ],
   "source": [
    "while 1: \n",
    "  my_input = input() \n",
    "  my_input = my_input.lower() \n",
    "  if my_input == \"exit\" or my_input == \"stop\" or my_input == \"bye\": \n",
    "    break\n",
    "  related_text = related(my_input) \n",
    "  send_message(related_text)\n",
    "  "
   ]
  },
  {
   "cell_type": "code",
   "execution_count": null,
   "metadata": {},
   "outputs": [],
   "source": []
  },
  {
   "cell_type": "code",
   "execution_count": null,
   "metadata": {},
   "outputs": [],
   "source": []
  },
  {
   "cell_type": "code",
   "execution_count": null,
   "metadata": {},
   "outputs": [],
   "source": []
  },
  {
   "cell_type": "code",
   "execution_count": null,
   "metadata": {},
   "outputs": [],
   "source": []
  }
 ],
 "metadata": {
  "interpreter": {
   "hash": "916dbcbb3f70747c44a77c7bcd40155683ae19c65e1c03b4aa3499c5328201f1"
  },
  "kernelspec": {
   "display_name": "Python 3",
   "language": "python",
   "name": "python3"
  },
  "language_info": {
   "codemirror_mode": {
    "name": "ipython",
    "version": 3
   },
   "file_extension": ".py",
   "mimetype": "text/x-python",
   "name": "python",
   "nbconvert_exporter": "python",
   "pygments_lexer": "ipython3",
   "version": "3.7.3"
  }
 },
 "nbformat": 4,
 "nbformat_minor": 2
}
